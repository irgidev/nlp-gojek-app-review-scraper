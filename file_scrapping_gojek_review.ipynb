{
  "nbformat": 4,
  "nbformat_minor": 0,
  "metadata": {
    "colab": {
      "provenance": []
    },
    "kernelspec": {
      "name": "python3",
      "display_name": "Python 3"
    },
    "language_info": {
      "name": "python"
    }
  },
  "cells": [
    {
      "cell_type": "code",
      "execution_count": 1,
      "metadata": {
        "colab": {
          "base_uri": "https://localhost:8080/"
        },
        "id": "Lda-SIcH0-B1",
        "outputId": "a40b407b-ed32-4b07-fa07-d0435c47be9c"
      },
      "outputs": [
        {
          "output_type": "stream",
          "name": "stdout",
          "text": [
            "Requirement already satisfied: google-play-scraper in /usr/local/lib/python3.10/dist-packages (1.2.7)\n"
          ]
        }
      ],
      "source": [
        "!pip install google-play-scraper\n",
        "from google_play_scraper import app, reviews, Sort, reviews_all\n",
        "import csv"
      ]
    },
    {
      "cell_type": "code",
      "source": [
        "scrapreview = reviews_all(\n",
        "    'com.gojek.app',\n",
        "    lang='id',\n",
        "    country='id',\n",
        "    sort=Sort.MOST_RELEVANT,\n",
        "    count=11000\n",
        ")"
      ],
      "metadata": {
        "id": "41ni3eBa1BPo"
      },
      "execution_count": 2,
      "outputs": []
    },
    {
      "cell_type": "code",
      "source": [
        "with open('review_gojek.csv', mode='w', newline='', encoding='utf-8') as file:\n",
        "  writer = csv.writer(file)\n",
        "  writer.writerow(['Review'])\n",
        "  for review in scrapreview:\n",
        "    writer.writerow([review['content']])"
      ],
      "metadata": {
        "id": "7l29SUpM1CWc"
      },
      "execution_count": 3,
      "outputs": []
    }
  ]
}